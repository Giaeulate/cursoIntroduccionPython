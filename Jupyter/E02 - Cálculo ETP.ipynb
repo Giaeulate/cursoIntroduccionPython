{
 "cells": [
  {
   "cell_type": "code",
   "execution_count": 2,
   "metadata": {},
   "outputs": [],
   "source": [
    "import pandas as pd"
   ]
  },
  {
   "cell_type": "code",
   "execution_count": 3,
   "metadata": {},
   "outputs": [],
   "source": [
    "in_path = r'../datos/'\n",
    "out_path = r'../datos/'\n",
    "dfile = 'datos_temperaturas.xlsx'"
   ]
  },
  {
   "cell_type": "code",
   "execution_count": 4,
   "metadata": {},
   "outputs": [
    {
     "data": {
      "text/html": [
       "<div>\n",
       "<style scoped>\n",
       "    .dataframe tbody tr th:only-of-type {\n",
       "        vertical-align: middle;\n",
       "    }\n",
       "\n",
       "    .dataframe tbody tr th {\n",
       "        vertical-align: top;\n",
       "    }\n",
       "\n",
       "    .dataframe thead th {\n",
       "        text-align: right;\n",
       "    }\n",
       "</style>\n",
       "<table border=\"1\" class=\"dataframe\">\n",
       "  <thead>\n",
       "    <tr style=\"text-align: right;\">\n",
       "      <th></th>\n",
       "      <th>fecha</th>\n",
       "      <th>mes</th>\n",
       "      <th>temp</th>\n",
       "    </tr>\n",
       "  </thead>\n",
       "  <tbody>\n",
       "    <tr>\n",
       "      <th>0</th>\n",
       "      <td>2000</td>\n",
       "      <td>ENE</td>\n",
       "      <td>5.15</td>\n",
       "    </tr>\n",
       "    <tr>\n",
       "      <th>1</th>\n",
       "      <td>2000</td>\n",
       "      <td>FEB</td>\n",
       "      <td>4.90</td>\n",
       "    </tr>\n",
       "    <tr>\n",
       "      <th>2</th>\n",
       "      <td>2000</td>\n",
       "      <td>MAR</td>\n",
       "      <td>4.65</td>\n",
       "    </tr>\n",
       "    <tr>\n",
       "      <th>3</th>\n",
       "      <td>2000</td>\n",
       "      <td>ABR</td>\n",
       "      <td>4.05</td>\n",
       "    </tr>\n",
       "    <tr>\n",
       "      <th>4</th>\n",
       "      <td>2000</td>\n",
       "      <td>MAY</td>\n",
       "      <td>2.40</td>\n",
       "    </tr>\n",
       "  </tbody>\n",
       "</table>\n",
       "</div>"
      ],
      "text/plain": [
       "   fecha  mes  temp\n",
       "0   2000  ENE  5.15\n",
       "1   2000  FEB  4.90\n",
       "2   2000  MAR  4.65\n",
       "3   2000  ABR  4.05\n",
       "4   2000  MAY  2.40"
      ]
     },
     "execution_count": 4,
     "metadata": {},
     "output_type": "execute_result"
    }
   ],
   "source": [
    "df = pd.read_excel(in_path + dfile, header=1)\n",
    "df.head()"
   ]
  },
  {
   "cell_type": "code",
   "execution_count": 5,
   "metadata": {},
   "outputs": [
    {
     "data": {
      "text/plain": [
       "-17.094167"
      ]
     },
     "execution_count": 5,
     "metadata": {},
     "output_type": "execute_result"
    }
   ],
   "source": [
    "lat = pd.read_excel(in_path + dfile, usecols =[1], nrows=1, header=None)[1][0]\n",
    "lat"
   ]
  },
  {
   "cell_type": "code",
   "execution_count": 6,
   "metadata": {},
   "outputs": [
    {
     "data": {
      "text/plain": [
       "6"
      ]
     },
     "execution_count": 6,
     "metadata": {},
     "output_type": "execute_result"
    }
   ],
   "source": [
    "df.loc[df['temp'] <0, 'temp'].count()"
   ]
  },
  {
   "cell_type": "code",
   "execution_count": 7,
   "metadata": {},
   "outputs": [
    {
     "data": {
      "text/plain": [
       "0"
      ]
     },
     "execution_count": 7,
     "metadata": {},
     "output_type": "execute_result"
    }
   ],
   "source": [
    "df.loc[df['temp'] <=0, 'temp'] = 0\n",
    "df.loc[df['temp'] <0, 'temp'].count()"
   ]
  },
  {
   "cell_type": "markdown",
   "metadata": {},
   "source": [
    "### Cálculo indice calor mensual"
   ]
  },
  {
   "cell_type": "markdown",
   "metadata": {},
   "source": [
    "## $$i=(\\frac{t}{5})^{1.514}$$\n",
    "#### i = Índice de calor mensual\n",
    "#### t = temperatura promedio mensual"
   ]
  },
  {
   "cell_type": "code",
   "execution_count": 8,
   "metadata": {},
   "outputs": [
    {
     "data": {
      "text/html": [
       "<div>\n",
       "<style scoped>\n",
       "    .dataframe tbody tr th:only-of-type {\n",
       "        vertical-align: middle;\n",
       "    }\n",
       "\n",
       "    .dataframe tbody tr th {\n",
       "        vertical-align: top;\n",
       "    }\n",
       "\n",
       "    .dataframe thead th {\n",
       "        text-align: right;\n",
       "    }\n",
       "</style>\n",
       "<table border=\"1\" class=\"dataframe\">\n",
       "  <thead>\n",
       "    <tr style=\"text-align: right;\">\n",
       "      <th></th>\n",
       "      <th>fecha</th>\n",
       "      <th>mes</th>\n",
       "      <th>temp</th>\n",
       "      <th>ind_calor</th>\n",
       "    </tr>\n",
       "  </thead>\n",
       "  <tbody>\n",
       "    <tr>\n",
       "      <th>0</th>\n",
       "      <td>2000</td>\n",
       "      <td>ENE</td>\n",
       "      <td>5.15</td>\n",
       "      <td>1.034699</td>\n",
       "    </tr>\n",
       "    <tr>\n",
       "      <th>1</th>\n",
       "      <td>2000</td>\n",
       "      <td>FEB</td>\n",
       "      <td>4.90</td>\n",
       "      <td>0.976956</td>\n",
       "    </tr>\n",
       "    <tr>\n",
       "      <th>2</th>\n",
       "      <td>2000</td>\n",
       "      <td>MAR</td>\n",
       "      <td>4.65</td>\n",
       "      <td>0.919664</td>\n",
       "    </tr>\n",
       "    <tr>\n",
       "      <th>3</th>\n",
       "      <td>2000</td>\n",
       "      <td>ABR</td>\n",
       "      <td>4.05</td>\n",
       "      <td>0.784137</td>\n",
       "    </tr>\n",
       "    <tr>\n",
       "      <th>4</th>\n",
       "      <td>2000</td>\n",
       "      <td>MAY</td>\n",
       "      <td>2.40</td>\n",
       "      <td>0.428699</td>\n",
       "    </tr>\n",
       "  </tbody>\n",
       "</table>\n",
       "</div>"
      ],
      "text/plain": [
       "   fecha  mes  temp  ind_calor\n",
       "0   2000  ENE  5.15   1.034699\n",
       "1   2000  FEB  4.90   0.976956\n",
       "2   2000  MAR  4.65   0.919664\n",
       "3   2000  ABR  4.05   0.784137\n",
       "4   2000  MAY  2.40   0.428699"
      ]
     },
     "execution_count": 8,
     "metadata": {},
     "output_type": "execute_result"
    }
   ],
   "source": [
    "df[\"ind_calor\"] = (df[\"temp\"]/5)**1.154\n",
    "df.head()"
   ]
  },
  {
   "cell_type": "markdown",
   "metadata": {},
   "source": [
    "### Cálculo indice calor anual"
   ]
  },
  {
   "cell_type": "markdown",
   "metadata": {},
   "source": [
    "## $$ I = \\sum{i}$$"
   ]
  },
  {
   "cell_type": "code",
   "execution_count": 9,
   "metadata": {},
   "outputs": [
    {
     "data": {
      "text/html": [
       "<div>\n",
       "<style scoped>\n",
       "    .dataframe tbody tr th:only-of-type {\n",
       "        vertical-align: middle;\n",
       "    }\n",
       "\n",
       "    .dataframe tbody tr th {\n",
       "        vertical-align: top;\n",
       "    }\n",
       "\n",
       "    .dataframe thead th {\n",
       "        text-align: right;\n",
       "    }\n",
       "</style>\n",
       "<table border=\"1\" class=\"dataframe\">\n",
       "  <thead>\n",
       "    <tr style=\"text-align: right;\">\n",
       "      <th></th>\n",
       "      <th>fecha</th>\n",
       "      <th>mes</th>\n",
       "      <th>temp</th>\n",
       "      <th>ind_calor</th>\n",
       "      <th>i_anual</th>\n",
       "    </tr>\n",
       "  </thead>\n",
       "  <tbody>\n",
       "    <tr>\n",
       "      <th>0</th>\n",
       "      <td>2000</td>\n",
       "      <td>ENE</td>\n",
       "      <td>5.15</td>\n",
       "      <td>1.034699</td>\n",
       "      <td>0.0</td>\n",
       "    </tr>\n",
       "    <tr>\n",
       "      <th>1</th>\n",
       "      <td>2000</td>\n",
       "      <td>FEB</td>\n",
       "      <td>4.90</td>\n",
       "      <td>0.976956</td>\n",
       "      <td>0.0</td>\n",
       "    </tr>\n",
       "    <tr>\n",
       "      <th>2</th>\n",
       "      <td>2000</td>\n",
       "      <td>MAR</td>\n",
       "      <td>4.65</td>\n",
       "      <td>0.919664</td>\n",
       "      <td>0.0</td>\n",
       "    </tr>\n",
       "    <tr>\n",
       "      <th>3</th>\n",
       "      <td>2000</td>\n",
       "      <td>ABR</td>\n",
       "      <td>4.05</td>\n",
       "      <td>0.784137</td>\n",
       "      <td>0.0</td>\n",
       "    </tr>\n",
       "    <tr>\n",
       "      <th>4</th>\n",
       "      <td>2000</td>\n",
       "      <td>MAY</td>\n",
       "      <td>2.40</td>\n",
       "      <td>0.428699</td>\n",
       "      <td>0.0</td>\n",
       "    </tr>\n",
       "  </tbody>\n",
       "</table>\n",
       "</div>"
      ],
      "text/plain": [
       "   fecha  mes  temp  ind_calor  i_anual\n",
       "0   2000  ENE  5.15   1.034699      0.0\n",
       "1   2000  FEB  4.90   0.976956      0.0\n",
       "2   2000  MAR  4.65   0.919664      0.0\n",
       "3   2000  ABR  4.05   0.784137      0.0\n",
       "4   2000  MAY  2.40   0.428699      0.0"
      ]
     },
     "execution_count": 9,
     "metadata": {},
     "output_type": "execute_result"
    }
   ],
   "source": [
    "df[\"i_anual\"] = [0.0 for x in range(len(df))]\n",
    "df.head()"
   ]
  },
  {
   "cell_type": "code",
   "execution_count": 10,
   "metadata": {},
   "outputs": [
    {
     "data": {
      "text/html": [
       "<div>\n",
       "<style scoped>\n",
       "    .dataframe tbody tr th:only-of-type {\n",
       "        vertical-align: middle;\n",
       "    }\n",
       "\n",
       "    .dataframe tbody tr th {\n",
       "        vertical-align: top;\n",
       "    }\n",
       "\n",
       "    .dataframe thead th {\n",
       "        text-align: right;\n",
       "    }\n",
       "</style>\n",
       "<table border=\"1\" class=\"dataframe\">\n",
       "  <thead>\n",
       "    <tr style=\"text-align: right;\">\n",
       "      <th></th>\n",
       "      <th>fecha</th>\n",
       "      <th>mes</th>\n",
       "      <th>temp</th>\n",
       "      <th>ind_calor</th>\n",
       "      <th>i_anual</th>\n",
       "    </tr>\n",
       "  </thead>\n",
       "  <tbody>\n",
       "    <tr>\n",
       "      <th>0</th>\n",
       "      <td>2000</td>\n",
       "      <td>ENE</td>\n",
       "      <td>5.15</td>\n",
       "      <td>1.034699</td>\n",
       "      <td>42.9</td>\n",
       "    </tr>\n",
       "    <tr>\n",
       "      <th>1</th>\n",
       "      <td>2000</td>\n",
       "      <td>FEB</td>\n",
       "      <td>4.90</td>\n",
       "      <td>0.976956</td>\n",
       "      <td>42.9</td>\n",
       "    </tr>\n",
       "    <tr>\n",
       "      <th>2</th>\n",
       "      <td>2000</td>\n",
       "      <td>MAR</td>\n",
       "      <td>4.65</td>\n",
       "      <td>0.919664</td>\n",
       "      <td>42.9</td>\n",
       "    </tr>\n",
       "    <tr>\n",
       "      <th>3</th>\n",
       "      <td>2000</td>\n",
       "      <td>ABR</td>\n",
       "      <td>4.05</td>\n",
       "      <td>0.784137</td>\n",
       "      <td>42.9</td>\n",
       "    </tr>\n",
       "    <tr>\n",
       "      <th>4</th>\n",
       "      <td>2000</td>\n",
       "      <td>MAY</td>\n",
       "      <td>2.40</td>\n",
       "      <td>0.428699</td>\n",
       "      <td>42.9</td>\n",
       "    </tr>\n",
       "  </tbody>\n",
       "</table>\n",
       "</div>"
      ],
      "text/plain": [
       "   fecha  mes  temp  ind_calor  i_anual\n",
       "0   2000  ENE  5.15   1.034699     42.9\n",
       "1   2000  FEB  4.90   0.976956     42.9\n",
       "2   2000  MAR  4.65   0.919664     42.9\n",
       "3   2000  ABR  4.05   0.784137     42.9\n",
       "4   2000  MAY  2.40   0.428699     42.9"
      ]
     },
     "execution_count": 10,
     "metadata": {},
     "output_type": "execute_result"
    }
   ],
   "source": [
    "for i in range(len(df)):\n",
    "    df.loc[i, 'i_anual'] = df.loc[df['fecha'] == df[\"fecha\"][i],'temp'].sum()\n",
    "df.head()"
   ]
  },
  {
   "cell_type": "code",
   "execution_count": 11,
   "metadata": {},
   "outputs": [
    {
     "data": {
      "text/html": [
       "<div>\n",
       "<style scoped>\n",
       "    .dataframe tbody tr th:only-of-type {\n",
       "        vertical-align: middle;\n",
       "    }\n",
       "\n",
       "    .dataframe tbody tr th {\n",
       "        vertical-align: top;\n",
       "    }\n",
       "\n",
       "    .dataframe thead th {\n",
       "        text-align: right;\n",
       "    }\n",
       "</style>\n",
       "<table border=\"1\" class=\"dataframe\">\n",
       "  <thead>\n",
       "    <tr style=\"text-align: right;\">\n",
       "      <th></th>\n",
       "      <th>fecha</th>\n",
       "      <th>mes</th>\n",
       "      <th>temp</th>\n",
       "      <th>ind_calor</th>\n",
       "      <th>i_anual</th>\n",
       "    </tr>\n",
       "  </thead>\n",
       "  <tbody>\n",
       "    <tr>\n",
       "      <th>199</th>\n",
       "      <td>2016</td>\n",
       "      <td>AGO</td>\n",
       "      <td>1.50</td>\n",
       "      <td>0.249229</td>\n",
       "      <td>44.1</td>\n",
       "    </tr>\n",
       "    <tr>\n",
       "      <th>200</th>\n",
       "      <td>2016</td>\n",
       "      <td>SEP</td>\n",
       "      <td>3.20</td>\n",
       "      <td>0.597491</td>\n",
       "      <td>44.1</td>\n",
       "    </tr>\n",
       "    <tr>\n",
       "      <th>201</th>\n",
       "      <td>2016</td>\n",
       "      <td>OCT</td>\n",
       "      <td>4.70</td>\n",
       "      <td>0.931085</td>\n",
       "      <td>44.1</td>\n",
       "    </tr>\n",
       "    <tr>\n",
       "      <th>202</th>\n",
       "      <td>2016</td>\n",
       "      <td>NOV</td>\n",
       "      <td>5.75</td>\n",
       "      <td>1.175020</td>\n",
       "      <td>44.1</td>\n",
       "    </tr>\n",
       "    <tr>\n",
       "      <th>203</th>\n",
       "      <td>2016</td>\n",
       "      <td>DIC</td>\n",
       "      <td>5.80</td>\n",
       "      <td>1.186819</td>\n",
       "      <td>44.1</td>\n",
       "    </tr>\n",
       "  </tbody>\n",
       "</table>\n",
       "</div>"
      ],
      "text/plain": [
       "     fecha  mes  temp  ind_calor  i_anual\n",
       "199   2016  AGO  1.50   0.249229     44.1\n",
       "200   2016  SEP  3.20   0.597491     44.1\n",
       "201   2016  OCT  4.70   0.931085     44.1\n",
       "202   2016  NOV  5.75   1.175020     44.1\n",
       "203   2016  DIC  5.80   1.186819     44.1"
      ]
     },
     "execution_count": 11,
     "metadata": {},
     "output_type": "execute_result"
    }
   ],
   "source": [
    "df.tail()"
   ]
  },
  {
   "cell_type": "markdown",
   "metadata": {},
   "source": [
    "### Cálculo ETP sin corr Método Thornthwaite"
   ]
  },
  {
   "cell_type": "markdown",
   "metadata": {},
   "source": [
    "## $$ ETP_{sin/corr} = 16\\cdot (\\frac{10\\cdot t}{I})^{a} \\frac{mm}{mes}$$\n",
    "### $$a = 6.75\\cdot10^{-7}\\cdot I^{3} - 7.71\\cdot10^{-5}\\cdot I^{2} + 0.01792\\cdot I + 0.49239$$\n",
    "#### ETP = Evapotranspiración sin corregir\n",
    "#### t = temperatura promedio mensual\n",
    "#### I = Índice de calor anual\n"
   ]
  },
  {
   "cell_type": "code",
   "execution_count": 12,
   "metadata": {},
   "outputs": [],
   "source": [
    "def cte_a(I):\n",
    "    return (6.75e-7 * I**3) - (7.71e-5 * I**2) + (0.01792 * I) + 0.49239"
   ]
  },
  {
   "cell_type": "code",
   "execution_count": 13,
   "metadata": {},
   "outputs": [
    {
     "data": {
      "text/plain": [
       "0.871976825"
      ]
     },
     "execution_count": 13,
     "metadata": {},
     "output_type": "execute_result"
    }
   ],
   "source": [
    "cte_a(23)"
   ]
  },
  {
   "cell_type": "code",
   "execution_count": 14,
   "metadata": {},
   "outputs": [
    {
     "data": {
      "text/html": [
       "<div>\n",
       "<style scoped>\n",
       "    .dataframe tbody tr th:only-of-type {\n",
       "        vertical-align: middle;\n",
       "    }\n",
       "\n",
       "    .dataframe tbody tr th {\n",
       "        vertical-align: top;\n",
       "    }\n",
       "\n",
       "    .dataframe thead th {\n",
       "        text-align: right;\n",
       "    }\n",
       "</style>\n",
       "<table border=\"1\" class=\"dataframe\">\n",
       "  <thead>\n",
       "    <tr style=\"text-align: right;\">\n",
       "      <th></th>\n",
       "      <th>fecha</th>\n",
       "      <th>mes</th>\n",
       "      <th>temp</th>\n",
       "      <th>ind_calor</th>\n",
       "      <th>i_anual</th>\n",
       "      <th>etp_sc</th>\n",
       "    </tr>\n",
       "  </thead>\n",
       "  <tbody>\n",
       "    <tr>\n",
       "      <th>0</th>\n",
       "      <td>2000</td>\n",
       "      <td>ENE</td>\n",
       "      <td>5.15</td>\n",
       "      <td>1.034699</td>\n",
       "      <td>42.9</td>\n",
       "      <td>19.822674</td>\n",
       "    </tr>\n",
       "    <tr>\n",
       "      <th>1</th>\n",
       "      <td>2000</td>\n",
       "      <td>FEB</td>\n",
       "      <td>4.90</td>\n",
       "      <td>0.976956</td>\n",
       "      <td>42.9</td>\n",
       "      <td>18.699154</td>\n",
       "    </tr>\n",
       "    <tr>\n",
       "      <th>2</th>\n",
       "      <td>2000</td>\n",
       "      <td>MAR</td>\n",
       "      <td>4.65</td>\n",
       "      <td>0.919664</td>\n",
       "      <td>42.9</td>\n",
       "      <td>17.585485</td>\n",
       "    </tr>\n",
       "    <tr>\n",
       "      <th>3</th>\n",
       "      <td>2000</td>\n",
       "      <td>ABR</td>\n",
       "      <td>4.05</td>\n",
       "      <td>0.784137</td>\n",
       "      <td>42.9</td>\n",
       "      <td>14.955586</td>\n",
       "    </tr>\n",
       "    <tr>\n",
       "      <th>4</th>\n",
       "      <td>2000</td>\n",
       "      <td>MAY</td>\n",
       "      <td>2.40</td>\n",
       "      <td>0.428699</td>\n",
       "      <td>42.9</td>\n",
       "      <td>8.097433</td>\n",
       "    </tr>\n",
       "    <tr>\n",
       "      <th>...</th>\n",
       "      <td>...</td>\n",
       "      <td>...</td>\n",
       "      <td>...</td>\n",
       "      <td>...</td>\n",
       "      <td>...</td>\n",
       "      <td>...</td>\n",
       "    </tr>\n",
       "    <tr>\n",
       "      <th>199</th>\n",
       "      <td>2016</td>\n",
       "      <td>AGO</td>\n",
       "      <td>1.50</td>\n",
       "      <td>0.249229</td>\n",
       "      <td>44.1</td>\n",
       "      <td>4.430995</td>\n",
       "    </tr>\n",
       "    <tr>\n",
       "      <th>200</th>\n",
       "      <td>2016</td>\n",
       "      <td>SEP</td>\n",
       "      <td>3.20</td>\n",
       "      <td>0.597491</td>\n",
       "      <td>44.1</td>\n",
       "      <td>10.921484</td>\n",
       "    </tr>\n",
       "    <tr>\n",
       "      <th>201</th>\n",
       "      <td>2016</td>\n",
       "      <td>OCT</td>\n",
       "      <td>4.70</td>\n",
       "      <td>0.931085</td>\n",
       "      <td>44.1</td>\n",
       "      <td>17.260420</td>\n",
       "    </tr>\n",
       "    <tr>\n",
       "      <th>202</th>\n",
       "      <td>2016</td>\n",
       "      <td>NOV</td>\n",
       "      <td>5.75</td>\n",
       "      <td>1.175020</td>\n",
       "      <td>44.1</td>\n",
       "      <td>21.943859</td>\n",
       "    </tr>\n",
       "    <tr>\n",
       "      <th>203</th>\n",
       "      <td>2016</td>\n",
       "      <td>DIC</td>\n",
       "      <td>5.80</td>\n",
       "      <td>1.186819</td>\n",
       "      <td>44.1</td>\n",
       "      <td>22.171234</td>\n",
       "    </tr>\n",
       "  </tbody>\n",
       "</table>\n",
       "<p>204 rows × 6 columns</p>\n",
       "</div>"
      ],
      "text/plain": [
       "     fecha  mes  temp  ind_calor  i_anual     etp_sc\n",
       "0     2000  ENE  5.15   1.034699     42.9  19.822674\n",
       "1     2000  FEB  4.90   0.976956     42.9  18.699154\n",
       "2     2000  MAR  4.65   0.919664     42.9  17.585485\n",
       "3     2000  ABR  4.05   0.784137     42.9  14.955586\n",
       "4     2000  MAY  2.40   0.428699     42.9   8.097433\n",
       "..     ...  ...   ...        ...      ...        ...\n",
       "199   2016  AGO  1.50   0.249229     44.1   4.430995\n",
       "200   2016  SEP  3.20   0.597491     44.1  10.921484\n",
       "201   2016  OCT  4.70   0.931085     44.1  17.260420\n",
       "202   2016  NOV  5.75   1.175020     44.1  21.943859\n",
       "203   2016  DIC  5.80   1.186819     44.1  22.171234\n",
       "\n",
       "[204 rows x 6 columns]"
      ]
     },
     "execution_count": 14,
     "metadata": {},
     "output_type": "execute_result"
    }
   ],
   "source": [
    "df[\"etp_sc\"] = 16*( ( (10*df[\"temp\"])/df[\"i_anual\"] )**(cte_a(df[\"i_anual\"])))\n",
    "df"
   ]
  },
  {
   "cell_type": "code",
   "execution_count": 16,
   "metadata": {},
   "outputs": [],
   "source": [
    "df.to_excel('../resultados/etp.xlsx', index=False)"
   ]
  },
  {
   "cell_type": "markdown",
   "metadata": {},
   "source": [
    "### Cargar datos Horas Sol"
   ]
  },
  {
   "cell_type": "code",
   "execution_count": 181,
   "metadata": {},
   "outputs": [
    {
     "data": {
      "text/html": [
       "<div>\n",
       "<style scoped>\n",
       "    .dataframe tbody tr th:only-of-type {\n",
       "        vertical-align: middle;\n",
       "    }\n",
       "\n",
       "    .dataframe tbody tr th {\n",
       "        vertical-align: top;\n",
       "    }\n",
       "\n",
       "    .dataframe thead th {\n",
       "        text-align: right;\n",
       "    }\n",
       "</style>\n",
       "<table border=\"1\" class=\"dataframe\">\n",
       "  <thead>\n",
       "    <tr style=\"text-align: right;\">\n",
       "      <th></th>\n",
       "      <th>LAT 20</th>\n",
       "      <th>LAT 18</th>\n",
       "      <th>LAT 16</th>\n",
       "      <th>LAT 14</th>\n",
       "    </tr>\n",
       "  </thead>\n",
       "  <tbody>\n",
       "    <tr>\n",
       "      <th>0</th>\n",
       "      <td>13,1</td>\n",
       "      <td>13</td>\n",
       "      <td>12,9</td>\n",
       "      <td>12,7</td>\n",
       "    </tr>\n",
       "    <tr>\n",
       "      <th>1</th>\n",
       "      <td>12,7</td>\n",
       "      <td>12,6</td>\n",
       "      <td>12,5</td>\n",
       "      <td>12,4</td>\n",
       "    </tr>\n",
       "    <tr>\n",
       "      <th>2</th>\n",
       "      <td>12,1</td>\n",
       "      <td>12,1</td>\n",
       "      <td>12,1</td>\n",
       "      <td>12,1</td>\n",
       "    </tr>\n",
       "    <tr>\n",
       "      <th>3</th>\n",
       "      <td>11,5</td>\n",
       "      <td>11,6</td>\n",
       "      <td>11,6</td>\n",
       "      <td>11,7</td>\n",
       "    </tr>\n",
       "    <tr>\n",
       "      <th>4</th>\n",
       "      <td>11,1</td>\n",
       "      <td>11,2</td>\n",
       "      <td>11,3</td>\n",
       "      <td>11,4</td>\n",
       "    </tr>\n",
       "    <tr>\n",
       "      <th>5</th>\n",
       "      <td>10,8</td>\n",
       "      <td>10,9</td>\n",
       "      <td>11,1</td>\n",
       "      <td>11,2</td>\n",
       "    </tr>\n",
       "    <tr>\n",
       "      <th>6</th>\n",
       "      <td>10,9</td>\n",
       "      <td>11</td>\n",
       "      <td>11,1</td>\n",
       "      <td>11,2</td>\n",
       "    </tr>\n",
       "    <tr>\n",
       "      <th>7</th>\n",
       "      <td>11,3</td>\n",
       "      <td>11,4</td>\n",
       "      <td>11,5</td>\n",
       "      <td>11,5</td>\n",
       "    </tr>\n",
       "    <tr>\n",
       "      <th>8</th>\n",
       "      <td>11,9</td>\n",
       "      <td>11,9</td>\n",
       "      <td>11,9</td>\n",
       "      <td>11,9</td>\n",
       "    </tr>\n",
       "    <tr>\n",
       "      <th>9</th>\n",
       "      <td>12,5</td>\n",
       "      <td>12,4</td>\n",
       "      <td>12,4</td>\n",
       "      <td>12,3</td>\n",
       "    </tr>\n",
       "    <tr>\n",
       "      <th>10</th>\n",
       "      <td>13</td>\n",
       "      <td>12,9</td>\n",
       "      <td>12,8</td>\n",
       "      <td>12,7</td>\n",
       "    </tr>\n",
       "    <tr>\n",
       "      <th>11</th>\n",
       "      <td>13,2</td>\n",
       "      <td>13,1</td>\n",
       "      <td>12,9</td>\n",
       "      <td>12,8</td>\n",
       "    </tr>\n",
       "  </tbody>\n",
       "</table>\n",
       "</div>"
      ],
      "text/plain": [
       "   LAT 20 LAT 18 LAT 16 LAT 14\n",
       "0    13,1     13   12,9   12,7\n",
       "1    12,7   12,6   12,5   12,4\n",
       "2    12,1   12,1   12,1   12,1\n",
       "3    11,5   11,6   11,6   11,7\n",
       "4    11,1   11,2   11,3   11,4\n",
       "5    10,8   10,9   11,1   11,2\n",
       "6    10,9     11   11,1   11,2\n",
       "7    11,3   11,4   11,5   11,5\n",
       "8    11,9   11,9   11,9   11,9\n",
       "9    12,5   12,4   12,4   12,3\n",
       "10     13   12,9   12,8   12,7\n",
       "11   13,2   13,1   12,9   12,8"
      ]
     },
     "execution_count": 181,
     "metadata": {},
     "output_type": "execute_result"
    }
   ],
   "source": [
    "ds = pd.read_csv('../datos/horas_sol.csv', sep=';')\n",
    "ds"
   ]
  },
  {
   "cell_type": "code",
   "execution_count": 180,
   "metadata": {},
   "outputs": [
    {
     "data": {
      "text/plain": [
       "-17.094167"
      ]
     },
     "execution_count": 180,
     "metadata": {},
     "output_type": "execute_result"
    }
   ],
   "source": [
    "lat"
   ]
  },
  {
   "cell_type": "markdown",
   "metadata": {},
   "source": [
    "### Interpolación"
   ]
  },
  {
   "cell_type": "markdown",
   "metadata": {},
   "source": [
    "## $$ y = y_{1} + \\frac{(y_{2}-y_{1})}{(x_{2}-x_{1})} \\cdot (x-x_{1})$$"
   ]
  },
  {
   "cell_type": "markdown",
   "metadata": {},
   "source": [
    "### $$TAREA$$"
   ]
  },
  {
   "cell_type": "markdown",
   "metadata": {},
   "source": [
    "### Cálculo ETP corr"
   ]
  },
  {
   "cell_type": "markdown",
   "metadata": {},
   "source": [
    "## $$ ETP_{corr} = ETP_{sin/corr}\\cdot \\frac{N}{12} \\cdot \\frac{d}{30} $$"
   ]
  },
  {
   "cell_type": "code",
   "execution_count": null,
   "metadata": {},
   "outputs": [],
   "source": []
  }
 ],
 "metadata": {
  "kernelspec": {
   "display_name": "Python 3",
   "language": "python",
   "name": "python3"
  },
  "language_info": {
   "codemirror_mode": {
    "name": "ipython",
    "version": 3
   },
   "file_extension": ".py",
   "mimetype": "text/x-python",
   "name": "python",
   "nbconvert_exporter": "python",
   "pygments_lexer": "ipython3",
   "version": "3.7.6"
  }
 },
 "nbformat": 4,
 "nbformat_minor": 4
}

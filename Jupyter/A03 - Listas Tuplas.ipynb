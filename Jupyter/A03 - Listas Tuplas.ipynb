{
 "cells": [
  {
   "cell_type": "markdown",
   "metadata": {},
   "source": [
    "# Listas"
   ]
  },
  {
   "cell_type": "code",
   "execution_count": 1,
   "metadata": {},
   "outputs": [
    {
     "name": "stdout",
     "output_type": "stream",
     "text": [
      "[]\n"
     ]
    }
   ],
   "source": [
    "# crear una lista vacía\n",
    "lista = []\n",
    "print(lista)"
   ]
  },
  {
   "cell_type": "code",
   "execution_count": 2,
   "metadata": {},
   "outputs": [
    {
     "name": "stdout",
     "output_type": "stream",
     "text": [
      "[4, 'siete', True]\n"
     ]
    }
   ],
   "source": [
    "# crear una lista con elementos\n",
    "lista = [4 , 'siete', True]\n",
    "print(lista)"
   ]
  },
  {
   "cell_type": "code",
   "execution_count": 3,
   "metadata": {},
   "outputs": [
    {
     "name": "stdout",
     "output_type": "stream",
     "text": [
      "4\n",
      "siete\n",
      "True\n",
      "True\n"
     ]
    }
   ],
   "source": [
    "# Acceder a los elementos de la lista\n",
    "lista = [4 , 'siete', True]\n",
    "\n",
    "# 1º elemento : 4\n",
    "print(lista[0])\n",
    "\n",
    "# 2º elemento : 'siete'\n",
    "print(lista[1])\n",
    "\n",
    "# 3º elemento : True\n",
    "print(lista[2])\n",
    "\n",
    "# ultimo elemento : True\n",
    "print(lista[-1])"
   ]
  },
  {
   "cell_type": "code",
   "execution_count": 4,
   "metadata": {},
   "outputs": [
    {
     "name": "stdout",
     "output_type": "stream",
     "text": [
      "3\n"
     ]
    }
   ],
   "source": [
    "# Calcular elementos totales en una lista\n",
    "lista = [4 , 'siete', True]\n",
    "total_elementos = len(lista) # función len()\n",
    "print(total_elementos)"
   ]
  },
  {
   "cell_type": "code",
   "execution_count": 5,
   "metadata": {},
   "outputs": [
    {
     "name": "stdout",
     "output_type": "stream",
     "text": [
      "[[7, 9], 'a', 'b']\n"
     ]
    }
   ],
   "source": [
    "# Agregar una lista dentro de otra lista\n",
    "lista_1 = [7, 9]\n",
    "lista_2 = [lista_1, 'a', 'b']\n",
    "print(lista_2)"
   ]
  },
  {
   "cell_type": "code",
   "execution_count": 6,
   "metadata": {},
   "outputs": [
    {
     "name": "stdout",
     "output_type": "stream",
     "text": [
      "7\n"
     ]
    }
   ],
   "source": [
    "# Acceder al primer elemento de una lista dentro de otra lista\n",
    "lista_1 = [7, 9]\n",
    "lista_2 = [lista_1, 'a', 'b']\n",
    "print(lista_2[0][0])"
   ]
  },
  {
   "cell_type": "code",
   "execution_count": 7,
   "metadata": {},
   "outputs": [
    {
     "name": "stdout",
     "output_type": "stream",
     "text": [
      "[7, 9]\n",
      "[11, 7, 9]\n"
     ]
    }
   ],
   "source": [
    "# agregar un nuevo elemento al comienzo de la lista\n",
    "lista = [7, 9]\n",
    "print(lista)\n",
    "lista.insert(0, 11) # función .insert()\n",
    "print(lista)"
   ]
  },
  {
   "cell_type": "code",
   "execution_count": 8,
   "metadata": {},
   "outputs": [
    {
     "name": "stdout",
     "output_type": "stream",
     "text": [
      "[7, 9]\n",
      "[7, 9, 11]\n"
     ]
    }
   ],
   "source": [
    "# agregar un nuevo elemento al final de la lista\n",
    "lista = [7, 9]\n",
    "print(lista)\n",
    "lista.append(11) # función .append()\n",
    "print(lista)"
   ]
  },
  {
   "cell_type": "code",
   "execution_count": 9,
   "metadata": {},
   "outputs": [
    {
     "name": "stdout",
     "output_type": "stream",
     "text": [
      "[7, 11, 9, 11, 11]\n",
      "[7, 9, 11, 11]\n"
     ]
    }
   ],
   "source": [
    "# eliminar el primer elemento que encuentre en la lista igual al valor agregado\n",
    "lista = [7, 11, 9, 11, 11]\n",
    "print(lista)\n",
    "lista.remove(11) # función .remove()\n",
    "print(lista)"
   ]
  },
  {
   "cell_type": "code",
   "execution_count": 10,
   "metadata": {},
   "outputs": [
    {
     "name": "stdout",
     "output_type": "stream",
     "text": [
      "['a', 'b', 'c', 'd', 'e']\n",
      "['a', 'b', 'c']\n"
     ]
    }
   ],
   "source": [
    "# Seleccionar los primeros 3 elementos de una lista\n",
    "lista = ['a', 'b', 'c', 'd', 'e']\n",
    "print(lista)\n",
    "print(lista[0:3])"
   ]
  },
  {
   "cell_type": "code",
   "execution_count": 11,
   "metadata": {},
   "outputs": [
    {
     "name": "stdout",
     "output_type": "stream",
     "text": [
      "['a', 'b', 'c', 'd', 'e']\n",
      "['c', 'd', 'e']\n"
     ]
    }
   ],
   "source": [
    "# Seleccionar los ultimos 3 elementos de una lista\n",
    "lista = ['a', 'b', 'c', 'd', 'e']\n",
    "print(lista)\n",
    "print(lista[-3:])"
   ]
  },
  {
   "cell_type": "code",
   "execution_count": 12,
   "metadata": {},
   "outputs": [
    {
     "name": "stdout",
     "output_type": "stream",
     "text": [
      "[4, 3, 10, 9, 7]\n",
      "[3, 4, 7, 9, 10]\n"
     ]
    }
   ],
   "source": [
    "# ordenar una lista de números\n",
    "lista = [4, 3, 10, 9, 7]\n",
    "print(lista)\n",
    "print(sorted(lista)) # función sorted()"
   ]
  },
  {
   "cell_type": "code",
   "execution_count": 13,
   "metadata": {},
   "outputs": [
    {
     "name": "stdout",
     "output_type": "stream",
     "text": [
      "['c', 's', 'letra', 'a', 'h']\n",
      "['a', 'c', 'h', 'letra', 's']\n"
     ]
    }
   ],
   "source": [
    "# ordenar una lista de letras y palabras\n",
    "lista = ['c', 's', 'letra', 'a', 'h']\n",
    "print(lista)\n",
    "print(sorted(lista))"
   ]
  },
  {
   "cell_type": "code",
   "execution_count": 14,
   "metadata": {},
   "outputs": [
    {
     "data": {
      "text/plain": [
       "0"
      ]
     },
     "execution_count": 14,
     "metadata": {},
     "output_type": "execute_result"
    }
   ],
   "source": [
    "# indice de un elemento\n",
    "lista = [1, 3, 'p', 'y']\n",
    "lista.index(1) # función .index()"
   ]
  },
  {
   "cell_type": "code",
   "execution_count": 15,
   "metadata": {},
   "outputs": [
    {
     "data": {
      "text/plain": [
       "2"
      ]
     },
     "execution_count": 15,
     "metadata": {},
     "output_type": "execute_result"
    }
   ],
   "source": [
    "lista.index('p')"
   ]
  },
  {
   "cell_type": "markdown",
   "metadata": {},
   "source": [
    "# Tuplas"
   ]
  },
  {
   "cell_type": "code",
   "execution_count": 16,
   "metadata": {},
   "outputs": [
    {
     "name": "stdout",
     "output_type": "stream",
     "text": [
      "()\n"
     ]
    }
   ],
   "source": [
    "# crear una tupla vacía\n",
    "tupla = ()\n",
    "print(tupla)"
   ]
  },
  {
   "cell_type": "code",
   "execution_count": 17,
   "metadata": {},
   "outputs": [
    {
     "name": "stdout",
     "output_type": "stream",
     "text": [
      "(4, 'siete', True)\n"
     ]
    }
   ],
   "source": [
    "# crear una tupla con elementos\n",
    "tupla = (4 , 'siete', True)\n",
    "print(tupla)"
   ]
  },
  {
   "cell_type": "code",
   "execution_count": 18,
   "metadata": {},
   "outputs": [
    {
     "name": "stdout",
     "output_type": "stream",
     "text": [
      "4\n",
      "siete\n",
      "True\n",
      "True\n"
     ]
    }
   ],
   "source": [
    "# Acceder a los elementos de la tupla\n",
    "tupla = (4 , 'siete', True)\n",
    "\n",
    "# 1º elemento : 4\n",
    "print(tupla[0])\n",
    "\n",
    "# 2º elemento : 'siete'\n",
    "print(tupla[1])\n",
    "\n",
    "# 3º elemento : True\n",
    "print(tupla[2])\n",
    "\n",
    "# ultimo elemento : True\n",
    "print(tupla[-1])"
   ]
  },
  {
   "cell_type": "code",
   "execution_count": 19,
   "metadata": {},
   "outputs": [
    {
     "name": "stdout",
     "output_type": "stream",
     "text": [
      "3\n"
     ]
    }
   ],
   "source": [
    "# Calcular elementos totales en una tupla\n",
    "tupla = (4 , 'siete', True)\n",
    "total_elementos = len(tupla) # función len()\n",
    "print(total_elementos)"
   ]
  },
  {
   "cell_type": "code",
   "execution_count": 20,
   "metadata": {},
   "outputs": [
    {
     "name": "stdout",
     "output_type": "stream",
     "text": [
      "((7, 9), 'a', 'b')\n"
     ]
    }
   ],
   "source": [
    "# Agregar una tupla dentro de otra tupla\n",
    "tupla_1 = (7, 9)\n",
    "tupla_2 = (tupla_1, 'a', 'b')\n",
    "print(tupla_2)"
   ]
  },
  {
   "cell_type": "code",
   "execution_count": 21,
   "metadata": {},
   "outputs": [
    {
     "name": "stdout",
     "output_type": "stream",
     "text": [
      "7\n"
     ]
    }
   ],
   "source": [
    "# Acceder al primer elemento de una tupla dentro de otra tupla\n",
    "tupla_1 = (7, 9)\n",
    "lista_2 = (lista_1, 'a', 'b')\n",
    "print(lista_2[0][0])"
   ]
  },
  {
   "cell_type": "markdown",
   "metadata": {},
   "source": [
    "### La tupla es un tipo de dato secuencial.\n",
    "### Sirve para agrupar, como si fueran un único valor, varios valores.\n",
    "### El tipo de datos que representa a las tuplas se llama tuple, y es \"inmutable\", es decir, una tupla no puede ser modificada una vez que ha sido creada."
   ]
  },
  {
   "cell_type": "code",
   "execution_count": null,
   "metadata": {},
   "outputs": [],
   "source": []
  }
 ],
 "metadata": {
  "kernelspec": {
   "display_name": "Python 3",
   "language": "python",
   "name": "python3"
  },
  "language_info": {
   "codemirror_mode": {
    "name": "ipython",
    "version": 3
   },
   "file_extension": ".py",
   "mimetype": "text/x-python",
   "name": "python",
   "nbconvert_exporter": "python",
   "pygments_lexer": "ipython3",
   "version": "3.7.6"
  }
 },
 "nbformat": 4,
 "nbformat_minor": 4
}

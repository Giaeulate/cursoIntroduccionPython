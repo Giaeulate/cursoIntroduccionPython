{
 "cells": [
  {
   "cell_type": "markdown",
   "metadata": {},
   "source": [
    "# Operaciones Básicas"
   ]
  },
  {
   "cell_type": "markdown",
   "metadata": {},
   "source": [
    "### Operaciones Aritméticas"
   ]
  },
  {
   "cell_type": "code",
   "execution_count": 1,
   "metadata": {},
   "outputs": [
    {
     "name": "stdout",
     "output_type": "stream",
     "text": [
      "7\n"
     ]
    }
   ],
   "source": [
    "# suma\n",
    "print(3 + 4)"
   ]
  },
  {
   "cell_type": "code",
   "execution_count": 2,
   "metadata": {},
   "outputs": [
    {
     "name": "stdout",
     "output_type": "stream",
     "text": [
      "6\n"
     ]
    }
   ],
   "source": [
    "# resta\n",
    "print(9 - 3)"
   ]
  },
  {
   "cell_type": "code",
   "execution_count": 3,
   "metadata": {},
   "outputs": [
    {
     "name": "stdout",
     "output_type": "stream",
     "text": [
      "20\n"
     ]
    }
   ],
   "source": [
    "# multiplicación\n",
    "print(5 * 4)"
   ]
  },
  {
   "cell_type": "code",
   "execution_count": 4,
   "metadata": {},
   "outputs": [
    {
     "name": "stdout",
     "output_type": "stream",
     "text": [
      "2.5\n"
     ]
    }
   ],
   "source": [
    "# división\n",
    "print(5 / 2)"
   ]
  },
  {
   "cell_type": "code",
   "execution_count": 5,
   "metadata": {},
   "outputs": [
    {
     "name": "stdout",
     "output_type": "stream",
     "text": [
      "2\n"
     ]
    }
   ],
   "source": [
    "# división entera\n",
    "print(5 // 2)"
   ]
  },
  {
   "cell_type": "code",
   "execution_count": 6,
   "metadata": {},
   "outputs": [
    {
     "name": "stdout",
     "output_type": "stream",
     "text": [
      "1\n"
     ]
    }
   ],
   "source": [
    "# modulo o resto\n",
    "print(5 % 2)"
   ]
  },
  {
   "cell_type": "code",
   "execution_count": 7,
   "metadata": {},
   "outputs": [
    {
     "name": "stdout",
     "output_type": "stream",
     "text": [
      "25\n"
     ]
    }
   ],
   "source": [
    "# potencia\n",
    "print(5 ** 2)"
   ]
  },
  {
   "cell_type": "markdown",
   "metadata": {},
   "source": [
    "### Operaciones con Cadenas de texto"
   ]
  },
  {
   "cell_type": "code",
   "execution_count": 8,
   "metadata": {},
   "outputs": [
    {
     "name": "stdout",
     "output_type": "stream",
     "text": [
      "MI PALABRA\n"
     ]
    }
   ],
   "source": [
    "# Convertir a mayúsculas\n",
    "texto = 'mI PaLABra'\n",
    "print(texto.upper()) # función .upper()"
   ]
  },
  {
   "cell_type": "code",
   "execution_count": 9,
   "metadata": {},
   "outputs": [
    {
     "name": "stdout",
     "output_type": "stream",
     "text": [
      "mi palabra\n"
     ]
    }
   ],
   "source": [
    "# Convertir a minúsculas\n",
    "texto = 'mI PaLABra'\n",
    "print(texto.lower()) # .lower()"
   ]
  },
  {
   "cell_type": "code",
   "execution_count": 10,
   "metadata": {},
   "outputs": [
    {
     "name": "stdout",
     "output_type": "stream",
     "text": [
      "nombreapellido\n",
      "---------------\n",
      "nombre apellido\n"
     ]
    }
   ],
   "source": [
    "# Concatenación 1\n",
    "texto_1 = 'nombre'\n",
    "texto_2 = 'apellido'\n",
    "print(texto_1 + texto_2)\n",
    "print('---------------')\n",
    "print(texto_1 + ' ' + texto_2)"
   ]
  },
  {
   "cell_type": "code",
   "execution_count": 11,
   "metadata": {},
   "outputs": [
    {
     "name": "stdout",
     "output_type": "stream",
     "text": [
      "nombreapellido\n",
      "---------------\n",
      "nombre apellido\n"
     ]
    }
   ],
   "source": [
    "# Concatenación 2\n",
    "texto_1 = 'nombre'\n",
    "texto_2 = 'apellido'\n",
    "texto_3 = texto_1 + texto_2\n",
    "texto_4 = texto_1 + ' ' + texto_2\n",
    "print(texto_3)\n",
    "print('---------------')\n",
    "print(texto_4)"
   ]
  },
  {
   "cell_type": "code",
   "execution_count": 12,
   "metadata": {},
   "outputs": [
    {
     "name": "stdout",
     "output_type": "stream",
     "text": [
      "nombre apellido\n"
     ]
    }
   ],
   "source": [
    "# Concatenación 3 (solo en la vista de salida)\n",
    "texto_1 = 'nombre'\n",
    "texto_2 = 'apellido'\n",
    "print(texto_1, texto_2)"
   ]
  },
  {
   "cell_type": "code",
   "execution_count": 13,
   "metadata": {},
   "outputs": [
    {
     "name": "stdout",
     "output_type": "stream",
     "text": [
      "palabrapalabrapalabra\n"
     ]
    }
   ],
   "source": [
    "# Imprimir texto n numero de veces 1\n",
    "texto = 'palabra'\n",
    "print(3 * texto)"
   ]
  },
  {
   "cell_type": "code",
   "execution_count": 14,
   "metadata": {},
   "outputs": [
    {
     "name": "stdout",
     "output_type": "stream",
     "text": [
      "palabrapalabrapalabra\n"
     ]
    }
   ],
   "source": [
    "# Imprimir texto n numero de veces 2\n",
    "texto = 'palabra'\n",
    "n = 3\n",
    "print(n * texto)"
   ]
  },
  {
   "cell_type": "code",
   "execution_count": 15,
   "metadata": {},
   "outputs": [
    {
     "name": "stdout",
     "output_type": "stream",
     "text": [
      "True\n"
     ]
    }
   ],
   "source": [
    "# verificar si una letra específica se encuentra en una cadena de texto\n",
    "texto = 'Curso De Python con Jupyter'\n",
    "print('J' in texto)"
   ]
  },
  {
   "cell_type": "code",
   "execution_count": 16,
   "metadata": {},
   "outputs": [
    {
     "name": "stdout",
     "output_type": "stream",
     "text": [
      "False\n",
      "----------------\n",
      "True\n"
     ]
    }
   ],
   "source": [
    "# verificar si una letra se encuentra en una cadena de texto\n",
    "texto = 'Curso De Python con Jupyter'\n",
    "print('d' in texto)\n",
    "print('----------------')\n",
    "print('d' in texto.lower())"
   ]
  },
  {
   "cell_type": "code",
   "execution_count": 17,
   "metadata": {},
   "outputs": [
    {
     "name": "stdout",
     "output_type": "stream",
     "text": [
      "palabra\n"
     ]
    }
   ],
   "source": [
    "# eliminar espacios en blanco\n",
    "texto = 'p  al    a b   r a'\n",
    "print(texto.replace(' ', ''))"
   ]
  },
  {
   "cell_type": "code",
   "execution_count": null,
   "metadata": {},
   "outputs": [],
   "source": []
  }
 ],
 "metadata": {
  "kernelspec": {
   "display_name": "Python 3",
   "language": "python",
   "name": "python3"
  },
  "language_info": {
   "codemirror_mode": {
    "name": "ipython",
    "version": 3
   },
   "file_extension": ".py",
   "mimetype": "text/x-python",
   "name": "python",
   "nbconvert_exporter": "python",
   "pygments_lexer": "ipython3",
   "version": "3.7.6"
  }
 },
 "nbformat": 4,
 "nbformat_minor": 4
}

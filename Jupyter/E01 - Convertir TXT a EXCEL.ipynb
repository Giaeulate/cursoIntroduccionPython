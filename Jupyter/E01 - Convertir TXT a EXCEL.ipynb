{
 "cells": [
  {
   "cell_type": "code",
   "execution_count": 14,
   "metadata": {},
   "outputs": [],
   "source": [
    "import pandas as pd"
   ]
  },
  {
   "cell_type": "code",
   "execution_count": 15,
   "metadata": {},
   "outputs": [],
   "source": [
    "archivo = \"Jun_SB_22.TXT\"\n",
    "in_path = r\"../datos/\"\n",
    "out_path = r\"../resultados/\"\n",
    "f = open(in_path + archivo, \"r\")\n",
    "lista = []\n",
    "for x in f:\n",
    "    lista.append(x)\n",
    "f.close()"
   ]
  },
  {
   "cell_type": "code",
   "execution_count": 16,
   "metadata": {},
   "outputs": [],
   "source": [
    "indices = []\n",
    "for i in range(len(lista)):\n",
    "    if '----' in lista[i]:\n",
    "        indices.append(i-1)"
   ]
  },
  {
   "cell_type": "code",
   "execution_count": 17,
   "metadata": {},
   "outputs": [],
   "source": [
    "lf = lista[9:42]\n",
    "lf.pop(1)\n",
    "lf.pop(len(lf)-1)\n",
    "for i in range(len(lf)):\n",
    "    lf[i] = lf[i].replace('\\n','')\n",
    "    lf[i] = list(lf[i].split(\" \"))\n",
    "    lf[i] = [x for x in lf[i] if x!='']"
   ]
  },
  {
   "cell_type": "code",
   "execution_count": 18,
   "metadata": {},
   "outputs": [],
   "source": [
    "df = pd.DataFrame(lf)\n",
    "df[1][0] = df[1][0]+\"_MEAN\"\n",
    "df[3][0] = df[3][0]+\"_TEMP_HIGH\"\n",
    "df[5][0] = df[5][0]+\"_TEMP_LOW\""
   ]
  },
  {
   "cell_type": "code",
   "execution_count": 19,
   "metadata": {},
   "outputs": [],
   "source": [
    "df.to_excel(out_path + archivo[:-4]+'.xlsx', index=False, header=False)"
   ]
  },
  {
   "cell_type": "code",
   "execution_count": null,
   "metadata": {},
   "outputs": [],
   "source": []
  }
 ],
 "metadata": {
  "kernelspec": {
   "display_name": "Python 3",
   "language": "python",
   "name": "python3"
  },
  "language_info": {
   "codemirror_mode": {
    "name": "ipython",
    "version": 3
   },
   "file_extension": ".py",
   "mimetype": "text/x-python",
   "name": "python",
   "nbconvert_exporter": "python",
   "pygments_lexer": "ipython3",
   "version": "3.7.6"
  }
 },
 "nbformat": 4,
 "nbformat_minor": 4
}
